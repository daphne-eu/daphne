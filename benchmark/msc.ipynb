{
 "cells": [
  {
   "cell_type": "code",
   "execution_count": 2,
   "id": "b2157a60",
   "metadata": {
    "slideshow": {
     "slide_type": "skip"
    }
   },
   "outputs": [
    {
     "name": "stdout",
     "output_type": "stream",
     "text": [
      "The autoreload extension is already loaded. To reload it, use:\n",
      "  %reload_ext autoreload\n"
     ]
    }
   ],
   "source": [
    "%load_ext autoreload\n",
    "%autoreload 2"
   ]
  },
  {
   "attachments": {},
   "cell_type": "markdown",
   "id": "8b8ba447",
   "metadata": {
    "slideshow": {
     "slide_type": "slide"
    }
   },
   "source": [
    "# Progress Update"
   ]
  },
  {
   "attachments": {},
   "cell_type": "markdown",
   "id": "45986a3f",
   "metadata": {
    "slideshow": {
     "slide_type": "slide"
    }
   },
   "source": [
    "# So far\n",
    "\n",
    "- Steep learning curve\n",
    "- Issue #42 -> on hold until LLVM update\n",
    "- daphne-opt (run passes on .mlir files)\n",
    "- DenseMatrix MLIR interop\n",
    "- Sum Reduce on DenseMatrix\n",
    "- Sum Reduce on DenseMatrix with value cast\n",
    "- Benchmarking\n",
    "- LLVM/MLIR community (Discource, Discord, Meetings, Conf, Papers)"
   ]
  },
  {
   "attachments": {},
   "cell_type": "markdown",
   "id": "0a7dd3c9",
   "metadata": {
    "slideshow": {
     "slide_type": "slide"
    }
   },
   "source": [
    "# DenseMatrix Interop\n",
    "\n",
    "### DenseMatrix -> StridedMemRefType\n",
    "\n",
    "```c++\n",
    "StridedMemRefType<double, 2> getMemRefDenseMatrix(\n",
    "    const DenseMatrix<double> *input, DCTX(ctx))\n",
    "\n",
    "%9 = \"daphne.call_kernel\"(%7, %5) {callee = \"_getMemRefDenseMatrix__StridedMemRefType___DenseMatrix_double\"} : (!daphne.Matrix<10x10xf64>, !daphne.DaphneContext) -> memref<10x10xf64>\n",
    "\n",
    "```\n",
    "\n",
    "\n",
    "### StridedMemRefType -> DenseMatrix \n",
    "```c++\n",
    "DenseMatrix<double>* getDenseMatrixFromMemRef(const StridedMemRefType<double, 2>* memRef, DCTX(ctx))\n",
    "    \n",
    "%11 = \"daphne.call_kernel\"(%10, %5) {callee = \"_getDenseMatrixFromMemRef__DenseMatrix_double__StridedMemRefType_\"} : (memref<10x10xf64>, !daphne.DaphneContext) -> !daphne.Matrix<10x10xf64>\n",
    "\n",
    "\n",
    "```\n"
   ]
  },
  {
   "attachments": {},
   "cell_type": "markdown",
   "id": "0944a679",
   "metadata": {
    "slideshow": {
     "slide_type": "slide"
    }
   },
   "source": [
    "# SumAllOp\n",
    "\n",
    "From\n",
    "\n",
    "```c++\n",
    "%10 = \"daphne.sumAll\"(%8) : (!daphne.Matrix<50000x25000xf64>) -> f64\n",
    "```\n",
    "\n",
    "To\n",
    "\n",
    "```c++\n",
    "%11 = affine.for %arg0 = 0 to 50000 iter_args(%arg1 = %cst) -> (f64) {\n",
    "  %cst_0 = constant 0.000000e+00 : f64\n",
    "  %15 = affine.for %arg2 = 0 to 25000 iter_args(%arg3 = %cst_0) -> (f64) {\n",
    "    %17 = memref.load %10[%arg0, %arg2] : memref<50000x25000xf64>\n",
    "    %19 = addf %arg3, %18 : f64\n",
    "    affine.yield %19 : f64\n",
    "  }\n",
    "  %16 = addf %arg1, %15 : f64\n",
    "  affine.yield %16 : f64\n",
    "}\n",
    "```\n"
   ]
  },
  {
   "attachments": {},
   "cell_type": "markdown",
   "id": "1944a679",
   "metadata": {
    "slideshow": {
     "slide_type": "slide"
    }
   },
   "source": [
    "# SumAllOp with f32 -> f64 cast\n",
    "\n",
    "From\n",
    "\n",
    "```c++\n",
    "%10 = \"daphne.call_kernel\"(%8, %7) {callee = \"_cast__DenseMatrix_double__DenseMatrix_float\"} : (!daphne.Matrix<50000x25000xf32>, !daphne.DaphneContext) -> !daphne.Matrix<50000x25000xf64>\n",
    "\n",
    "%11 = \"daphne.call_kernel\"(%10, %7) {callee = \"_sumAll__double__DenseMatrix_double\"} : (!daphne.Matrix<50000x25000xf64>, !daphne.DaphneContext) -> f64\n",
    "```\n",
    "\n",
    "To\n",
    "\n",
    "```c++\n",
    "%11 = affine.for %arg0 = 0 to 50000 iter_args(%arg1 = %cst) -> (f64) {\n",
    "  %cst_0 = constant 0.000000e+00 : f64\n",
    "  %15 = affine.for %arg2 = 0 to 25000 iter_args(%arg3 = %cst_0) -> (f64) {\n",
    "    %17 = memref.load %10[%arg0, %arg2] : memref<50000x25000xf32>\n",
    "    %18 = fpext %17 : f32 to f64\n",
    "    %19 = addf %arg3, %18 : f64\n",
    "    affine.yield %19 : f64\n",
    "  }\n",
    "  %16 = addf %arg1, %15 : f64\n",
    "  affine.yield %16 : f64\n",
    "}\n",
    "```\n"
   ]
  },
  {
   "attachments": {},
   "cell_type": "markdown",
   "id": "4d3de43a",
   "metadata": {
    "slideshow": {
     "slide_type": "slide"
    }
   },
   "source": [
    "# Performance Comparison"
   ]
  },
  {
   "attachments": {},
   "cell_type": "markdown",
   "id": "6ca665bf",
   "metadata": {
    "slideshow": {
     "slide_type": "slide"
    }
   },
   "source": [
    "!['debug'](sumall/results/01_debug.png)"
   ]
  },
  {
   "attachments": {},
   "cell_type": "markdown",
   "id": "7ca665bf",
   "metadata": {
    "slideshow": {
     "slide_type": "slide"
    }
   },
   "source": [
    "!['kb'](sumall/results/02_kb.png)"
   ]
  },
  {
   "attachments": {},
   "cell_type": "markdown",
   "id": "1ca665bf",
   "metadata": {
    "slideshow": {
     "slide_type": "slide"
    }
   },
   "source": [
    "!['mb'](sumall/results/03_mb.png)"
   ]
  },
  {
   "attachments": {},
   "cell_type": "markdown",
   "id": "6ca666bf",
   "metadata": {
    "slideshow": {
     "slide_type": "slide"
    }
   },
   "source": [
    "!['gb'](sumall/results/04_gb.png)"
   ]
  },
  {
   "attachments": {},
   "cell_type": "markdown",
   "id": "6ca667bf",
   "metadata": {
    "slideshow": {
     "slide_type": "slide"
    }
   },
   "source": [
    "!['overview'](sumall/results/05_overview.png)"
   ]
  },
  {
   "attachments": {},
   "cell_type": "markdown",
   "id": "6ca660bf",
   "metadata": {
    "slideshow": {
     "slide_type": "slide"
    }
   },
   "source": [
    "!['delta'](sumall/results/06_delta.png)"
   ]
  },
  {
   "attachments": {},
   "cell_type": "markdown",
   "id": "2ca665bf",
   "metadata": {
    "slideshow": {
     "slide_type": "slide"
    }
   },
   "source": [
    "!['type_cast'](sumall_typecast/type_cast.png)"
   ]
  },
  {
   "attachments": {},
   "cell_type": "markdown",
   "id": "3ca665bf",
   "metadata": {
    "slideshow": {
     "slide_type": "slide"
    }
   },
   "source": [
    "!['type_cast_speedup'](sumall_typecast/type_cast_speedup.png)"
   ]
  },
  {
   "attachments": {},
   "cell_type": "markdown",
   "id": "9ca665bf",
   "metadata": {
    "slideshow": {
     "slide_type": "slide"
    }
   },
   "source": [
    "# Next Steps\n",
    "\n",
    "- Interop cont.\n",
    "- Multi-threaded execution\n",
    "- MatMulOp\n",
    "- Compare binary sizes precompiled vs codegen"
   ]
  }
 ],
 "metadata": {
  "celltoolbar": "Slideshow",
  "interpreter": {
   "hash": "31f2aee4e71d21fbe5cf8b01ff0e069b9275f58929596ceb00d14d90e3e16cd6"
  },
  "kernelspec": {
   "display_name": "Python 3",
   "language": "python",
   "name": "python3"
  },
  "language_info": {
   "codemirror_mode": {
    "name": "ipython",
    "version": 3
   },
   "file_extension": ".py",
   "mimetype": "text/x-python",
   "name": "python",
   "nbconvert_exporter": "python",
   "pygments_lexer": "ipython3",
   "version": "3.8.10"
  }
 },
 "nbformat": 4,
 "nbformat_minor": 5
}
